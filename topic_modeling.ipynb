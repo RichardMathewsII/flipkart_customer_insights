{
 "cells": [
  {
   "attachments": {},
   "cell_type": "markdown",
   "metadata": {},
   "source": [
    "# Topic Modeling Analysis"
   ]
  },
  {
   "attachments": {},
   "cell_type": "markdown",
   "metadata": {},
   "source": [
    "## Setup"
   ]
  },
  {
   "cell_type": "code",
   "execution_count": 1,
   "metadata": {},
   "outputs": [],
   "source": [
    "import pandas as pd"
   ]
  },
  {
   "cell_type": "code",
   "execution_count": 2,
   "metadata": {},
   "outputs": [],
   "source": [
    "df = pd.read_csv(\"cleaned_sample.csv\")  # on local: cleaned_product_reviews.csv"
   ]
  },
  {
   "attachments": {},
   "cell_type": "markdown",
   "metadata": {},
   "source": [
    "## Topic Modeling"
   ]
  },
  {
   "cell_type": "code",
   "execution_count": 3,
   "metadata": {},
   "outputs": [],
   "source": [
    "from app.lda import extract_topics_from_reviews"
   ]
  },
  {
   "cell_type": "code",
   "execution_count": 4,
   "metadata": {},
   "outputs": [],
   "source": [
    "topics = extract_topics_from_reviews(dataset=df, product=df.ProductName.unique()[0])"
   ]
  },
  {
   "cell_type": "code",
   "execution_count": 5,
   "metadata": {},
   "outputs": [
    {
     "data": {
      "text/html": [
       "<div>\n",
       "<style scoped>\n",
       "    .dataframe tbody tr th:only-of-type {\n",
       "        vertical-align: middle;\n",
       "    }\n",
       "\n",
       "    .dataframe tbody tr th {\n",
       "        vertical-align: top;\n",
       "    }\n",
       "\n",
       "    .dataframe thead th {\n",
       "        text-align: right;\n",
       "    }\n",
       "</style>\n",
       "<table border=\"1\" class=\"dataframe\">\n",
       "  <thead>\n",
       "    <tr style=\"text-align: right;\">\n",
       "      <th></th>\n",
       "      <th>Product</th>\n",
       "      <th>Topic Number</th>\n",
       "      <th>Topic</th>\n",
       "    </tr>\n",
       "  </thead>\n",
       "  <tbody>\n",
       "    <tr>\n",
       "      <th>0</th>\n",
       "      <td>MILTON Thermosteel Flip Lid 500 ml FlaskÂ Â (P...</td>\n",
       "      <td>1</td>\n",
       "      <td>bad products experience time month</td>\n",
       "    </tr>\n",
       "    <tr>\n",
       "      <th>1</th>\n",
       "      <td>MILTON Thermosteel Flip Lid 500 ml FlaskÂ Â (P...</td>\n",
       "      <td>2</td>\n",
       "      <td>quality poor leakage bad problem</td>\n",
       "    </tr>\n",
       "    <tr>\n",
       "      <th>2</th>\n",
       "      <td>MILTON Thermosteel Flip Lid 500 ml FlaskÂ Â (P...</td>\n",
       "      <td>3</td>\n",
       "      <td>product bad waste money buy</td>\n",
       "    </tr>\n",
       "    <tr>\n",
       "      <th>3</th>\n",
       "      <td>MILTON Thermosteel Flip Lid 500 ml FlaskÂ Â (P...</td>\n",
       "      <td>4</td>\n",
       "      <td>good product hot hrs satisfied</td>\n",
       "    </tr>\n",
       "    <tr>\n",
       "      <th>4</th>\n",
       "      <td>MILTON Thermosteel Flip Lid 500 ml FlaskÂ Â (P...</td>\n",
       "      <td>5</td>\n",
       "      <td>working hours hot hour water</td>\n",
       "    </tr>\n",
       "  </tbody>\n",
       "</table>\n",
       "</div>"
      ],
      "text/plain": [
       "                                             Product  Topic Number  \\\n",
       "0  MILTON Thermosteel Flip Lid 500 ml FlaskÂ Â (P...             1   \n",
       "1  MILTON Thermosteel Flip Lid 500 ml FlaskÂ Â (P...             2   \n",
       "2  MILTON Thermosteel Flip Lid 500 ml FlaskÂ Â (P...             3   \n",
       "3  MILTON Thermosteel Flip Lid 500 ml FlaskÂ Â (P...             4   \n",
       "4  MILTON Thermosteel Flip Lid 500 ml FlaskÂ Â (P...             5   \n",
       "\n",
       "                                Topic  \n",
       "0  bad products experience time month  \n",
       "1    quality poor leakage bad problem  \n",
       "2         product bad waste money buy  \n",
       "3      good product hot hrs satisfied  \n",
       "4        working hours hot hour water  "
      ]
     },
     "execution_count": 5,
     "metadata": {},
     "output_type": "execute_result"
    }
   ],
   "source": [
    "topics"
   ]
  },
  {
   "attachments": {},
   "cell_type": "markdown",
   "metadata": {},
   "source": [
    "## GPT Proof of Concept\n",
    "A proof of concept that we can leverage the GPT model from OpenAI to brainstorm product improvement ideas from the key topics extracted from negative customer reviews."
   ]
  },
  {
   "cell_type": "code",
   "execution_count": 6,
   "metadata": {},
   "outputs": [],
   "source": [
    "from app.gpt_utils import set_api_key, send_prompt"
   ]
  },
  {
   "cell_type": "code",
   "execution_count": 7,
   "metadata": {},
   "outputs": [],
   "source": [
    "def create_prompt(product, topic):\n",
    "    prompt = f\"Here are some key words describing customer complaints about a product: {topic}.\\\n",
    "        The product is called {product}. Brainstorm some ways we can improve this product.\"\n",
    "    return prompt"
   ]
  },
  {
   "attachments": {},
   "cell_type": "markdown",
   "metadata": {},
   "source": [
    "You must define an OpenAI API key in a .env file in this repository\n",
    "```\n",
    "API_KEY=<insert API key>\n",
    "```"
   ]
  },
  {
   "cell_type": "code",
   "execution_count": 8,
   "metadata": {},
   "outputs": [],
   "source": [
    "set_api_key()"
   ]
  },
  {
   "cell_type": "code",
   "execution_count": 9,
   "metadata": {},
   "outputs": [
    {
     "name": "stdout",
     "output_type": "stream",
     "text": [
      "Based on the keywords you provided, here are some ways that the MILTON Thermosteel Flip Lid 500 ml Flask can be improved:\n",
      "\n",
      "1. Quality: To address complaints about poor quality and leakage issues, MILTON can review its manufacturing process and supply chain management to identify and eliminate weaknesses that could compromise product quality. A more rigorous quality control mechanism should be implemented to ensure that only high-quality products are released to customers.\n",
      "\n",
      "2. Insulation: Some customers have complained about the product failing to keep items hot for extended periods of time. MILTON can consider improving the insulation of the product to increase its capacity to keep drinks hot for longer.\n",
      "\n",
      "3. Capacity: Customers have found the capacity of a 500mL flask to be inadequate for their needs. MILTON could consider offering flasks of different sizes to meet different customers' requirements.\n",
      "\n",
      "4. Design: The MILTON flask has received praise for its design, but it could still be further improved based on customers' feedback. Specifically, some customers have had difficulty with the flip lid. MILTON could refine the design of the flip lid mechanism to make it easier to use.\n",
      "\n",
      "5. Value for money: Some customers have felt that the product was overpriced and did not represent good value for money. MILTON can address this concern by analyzing its pricing strategies and re-evaluating its cost structure to offer competitive pricing options while still maintaining high-quality products.\n",
      "\n",
      "Overall, MILTON can use customer feedback to improve the quality, functionality, and design of the MILTON Thermosteel Flip Lid 500 ml Flask, thus ensuring that customer satisfaction is prioritized.\n"
     ]
    }
   ],
   "source": [
    "response = send_prompt(create_prompt(topics.Product.values[0], topics.Topic.to_list()))\n",
    "print(response)"
   ]
  }
 ],
 "metadata": {
  "kernelspec": {
   "display_name": "w207",
   "language": "python",
   "name": "python3"
  },
  "language_info": {
   "codemirror_mode": {
    "name": "ipython",
    "version": 3
   },
   "file_extension": ".py",
   "mimetype": "text/x-python",
   "name": "python",
   "nbconvert_exporter": "python",
   "pygments_lexer": "ipython3",
   "version": "3.10.9"
  },
  "orig_nbformat": 4,
  "vscode": {
   "interpreter": {
    "hash": "f9f3e8312867e3141c115d7655fa10f9a077369403430731cc5b7ba9cad540c2"
   }
  }
 },
 "nbformat": 4,
 "nbformat_minor": 2
}
