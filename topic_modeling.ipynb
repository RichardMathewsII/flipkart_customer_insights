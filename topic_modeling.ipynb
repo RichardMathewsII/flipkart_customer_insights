{
 "cells": [
  {
   "attachments": {},
   "cell_type": "markdown",
   "metadata": {},
   "source": [
    "# Topic Modeling Analysis"
   ]
  },
  {
   "attachments": {},
   "cell_type": "markdown",
   "metadata": {},
   "source": [
    "## Setup"
   ]
  },
  {
   "cell_type": "code",
   "execution_count": 2,
   "metadata": {},
   "outputs": [],
   "source": [
    "import pandas as pd"
   ]
  },
  {
   "cell_type": "code",
   "execution_count": 3,
   "metadata": {},
   "outputs": [],
   "source": [
    "df = pd.read_csv(\"cleaned_product_reviews.csv\")"
   ]
  },
  {
   "attachments": {},
   "cell_type": "markdown",
   "metadata": {},
   "source": [
    "## Topic Modeling"
   ]
  },
  {
   "cell_type": "code",
   "execution_count": 1,
   "metadata": {},
   "outputs": [],
   "source": [
    "from app.lda import extract_topics_from_reviews"
   ]
  },
  {
   "cell_type": "code",
   "execution_count": 12,
   "metadata": {},
   "outputs": [],
   "source": [
    "topics = extract_topics_from_reviews(dataset=df, product=df.ProductName.unique()[1])"
   ]
  },
  {
   "cell_type": "code",
   "execution_count": 13,
   "metadata": {},
   "outputs": [
    {
     "data": {
      "text/html": [
       "<div>\n",
       "<style scoped>\n",
       "    .dataframe tbody tr th:only-of-type {\n",
       "        vertical-align: middle;\n",
       "    }\n",
       "\n",
       "    .dataframe tbody tr th {\n",
       "        vertical-align: top;\n",
       "    }\n",
       "\n",
       "    .dataframe thead th {\n",
       "        text-align: right;\n",
       "    }\n",
       "</style>\n",
       "<table border=\"1\" class=\"dataframe\">\n",
       "  <thead>\n",
       "    <tr style=\"text-align: right;\">\n",
       "      <th></th>\n",
       "      <th>Product</th>\n",
       "      <th>Topic Number</th>\n",
       "      <th>Topic</th>\n",
       "    </tr>\n",
       "  </thead>\n",
       "  <tbody>\n",
       "    <tr>\n",
       "      <th>0</th>\n",
       "      <td>Crompton 75 L Desert Air Cooler?ÿ?ÿ(White, Tea...</td>\n",
       "      <td>1</td>\n",
       "      <td>product waste money working low</td>\n",
       "    </tr>\n",
       "    <tr>\n",
       "      <th>1</th>\n",
       "      <td>Crompton 75 L Desert Air Cooler?ÿ?ÿ(White, Tea...</td>\n",
       "      <td>2</td>\n",
       "      <td>bad cooler pump air water</td>\n",
       "    </tr>\n",
       "    <tr>\n",
       "      <th>2</th>\n",
       "      <td>Crompton 75 L Desert Air Cooler?ÿ?ÿ(White, Tea...</td>\n",
       "      <td>3</td>\n",
       "      <td>good product quality worst expected</td>\n",
       "    </tr>\n",
       "    <tr>\n",
       "      <th>3</th>\n",
       "      <td>Crompton 75 L Desert Air Cooler?ÿ?ÿ(White, Tea...</td>\n",
       "      <td>4</td>\n",
       "      <td>cooling good product proper disappointed</td>\n",
       "    </tr>\n",
       "    <tr>\n",
       "      <th>4</th>\n",
       "      <td>Crompton 75 L Desert Air Cooler?ÿ?ÿ(White, Tea...</td>\n",
       "      <td>5</td>\n",
       "      <td>product water good working cooler</td>\n",
       "    </tr>\n",
       "  </tbody>\n",
       "</table>\n",
       "</div>"
      ],
      "text/plain": [
       "                                             Product  ...                                     Topic\n",
       "0  Crompton 75 L Desert Air Cooler?ÿ?ÿ(White, Tea...  ...           product waste money working low\n",
       "1  Crompton 75 L Desert Air Cooler?ÿ?ÿ(White, Tea...  ...                 bad cooler pump air water\n",
       "2  Crompton 75 L Desert Air Cooler?ÿ?ÿ(White, Tea...  ...       good product quality worst expected\n",
       "3  Crompton 75 L Desert Air Cooler?ÿ?ÿ(White, Tea...  ...  cooling good product proper disappointed\n",
       "4  Crompton 75 L Desert Air Cooler?ÿ?ÿ(White, Tea...  ...         product water good working cooler\n",
       "\n",
       "[5 rows x 3 columns]"
      ]
     },
     "execution_count": 13,
     "metadata": {},
     "output_type": "execute_result"
    }
   ],
   "source": [
    "topics"
   ]
  },
  {
   "attachments": {},
   "cell_type": "markdown",
   "metadata": {},
   "source": [
    "## GPT Proof of Concept\n",
    "A proof of concept that we can leverage the GPT model from OpenAI to brainstorm product improvement ideas from the key topics extracted from negative customer reviews."
   ]
  },
  {
   "cell_type": "code",
   "execution_count": 14,
   "metadata": {},
   "outputs": [],
   "source": [
    "from app.gpt_utils import set_api_key, send_prompt"
   ]
  },
  {
   "cell_type": "code",
   "execution_count": 16,
   "metadata": {},
   "outputs": [],
   "source": [
    "def create_prompt(product, topic):\n",
    "    prompt = f\"Here are some key words describing customer complaints about a product: {topic}.\\\n",
    "        The product is called {product}. Brainstorm some ways we can improve this product.\"\n",
    "    return prompt"
   ]
  },
  {
   "cell_type": "code",
   "execution_count": 15,
   "metadata": {},
   "outputs": [],
   "source": [
    "set_api_key()"
   ]
  },
  {
   "cell_type": "code",
   "execution_count": 18,
   "metadata": {},
   "outputs": [
    {
     "name": "stdout",
     "output_type": "stream",
     "text": [
      "Based on the customer complaints related to the Crompton 75 L Desert Air Cooler, here are some suggestions to improve the product:\n",
      "\n",
      "1. Improve the quality control process during production to reduce the number of defective units that waste customers' money and do not work properly.\n",
      "2. Address the issue of a bad cooler pump that customers have complained about, either by offering better quality pumps or ensuring that they are properly installed and maintained.\n",
      "3. Clarify the proper usage and maintenance of the product to meet customer's expectations and avoid disappointment. Include detailed instructions and troubleshooting guides.\n",
      "4. Enhance the product's cooling performance, which customers have found unsatisfactory, by upgrading the cooler's technology or increasing the number of cooling pads.\n",
      "5. Address any design flaws or build quality issues that may be causing customers to be disappointed or dissatisfied with the product.\n",
      "\n",
      "Overall, focusing on improving the product quality, cooling performance, and addressing customer issues regarding the cooler pump would help improve customer satisfaction with the Crompton 75 L Desert Air Cooler.\n"
     ]
    }
   ],
   "source": [
    "response = send_prompt(create_prompt(topics.Product.values[0], topics.Topic.to_list()))\n",
    "print(response)"
   ]
  }
 ],
 "metadata": {
  "kernelspec": {
   "display_name": "w207",
   "language": "python",
   "name": "python3"
  },
  "language_info": {
   "codemirror_mode": {
    "name": "ipython",
    "version": 3
   },
   "file_extension": ".py",
   "mimetype": "text/x-python",
   "name": "python",
   "nbconvert_exporter": "python",
   "pygments_lexer": "ipython3",
   "version": "3.10.9"
  },
  "orig_nbformat": 4,
  "vscode": {
   "interpreter": {
    "hash": "f9f3e8312867e3141c115d7655fa10f9a077369403430731cc5b7ba9cad540c2"
   }
  }
 },
 "nbformat": 4,
 "nbformat_minor": 2
}
