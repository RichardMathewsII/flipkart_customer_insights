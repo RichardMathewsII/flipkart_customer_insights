{
 "cells": [
  {
   "attachments": {},
   "cell_type": "markdown",
   "metadata": {},
   "source": [
    "# Cleaning Product Reviews Dataset"
   ]
  },
  {
   "cell_type": "code",
   "execution_count": 1,
   "metadata": {},
   "outputs": [],
   "source": [
    "import pandas as pd"
   ]
  },
  {
   "attachments": {},
   "cell_type": "markdown",
   "metadata": {},
   "source": [
    "## Inspect"
   ]
  },
  {
   "cell_type": "code",
   "execution_count": 2,
   "metadata": {},
   "outputs": [],
   "source": [
    "df = pd.read_csv(\"flipkart_product.csv\")"
   ]
  },
  {
   "cell_type": "code",
   "execution_count": 3,
   "metadata": {},
   "outputs": [
    {
     "data": {
      "text/html": [
       "<div>\n",
       "<style scoped>\n",
       "    .dataframe tbody tr th:only-of-type {\n",
       "        vertical-align: middle;\n",
       "    }\n",
       "\n",
       "    .dataframe tbody tr th {\n",
       "        vertical-align: top;\n",
       "    }\n",
       "\n",
       "    .dataframe thead th {\n",
       "        text-align: right;\n",
       "    }\n",
       "</style>\n",
       "<table border=\"1\" class=\"dataframe\">\n",
       "  <thead>\n",
       "    <tr style=\"text-align: right;\">\n",
       "      <th></th>\n",
       "      <th>ProductName</th>\n",
       "      <th>Price</th>\n",
       "      <th>Rate</th>\n",
       "      <th>Review</th>\n",
       "      <th>Summary</th>\n",
       "    </tr>\n",
       "  </thead>\n",
       "  <tbody>\n",
       "    <tr>\n",
       "      <th>0</th>\n",
       "      <td>Candes 12 L Room/Personal Air Cooler?ÿ?ÿ(White...</td>\n",
       "      <td>??3,999</td>\n",
       "      <td>5</td>\n",
       "      <td>Super!</td>\n",
       "      <td>Great cooler.. excellent air flow and for this...</td>\n",
       "    </tr>\n",
       "    <tr>\n",
       "      <th>1</th>\n",
       "      <td>Candes 12 L Room/Personal Air Cooler?ÿ?ÿ(White...</td>\n",
       "      <td>??3,999</td>\n",
       "      <td>5</td>\n",
       "      <td>Awesome</td>\n",
       "      <td>Best budget 2 fit cooler. Nice cooling</td>\n",
       "    </tr>\n",
       "    <tr>\n",
       "      <th>2</th>\n",
       "      <td>Candes 12 L Room/Personal Air Cooler?ÿ?ÿ(White...</td>\n",
       "      <td>??3,999</td>\n",
       "      <td>3</td>\n",
       "      <td>Fair</td>\n",
       "      <td>The quality is good but the power of air is de...</td>\n",
       "    </tr>\n",
       "    <tr>\n",
       "      <th>3</th>\n",
       "      <td>Candes 12 L Room/Personal Air Cooler?ÿ?ÿ(White...</td>\n",
       "      <td>??3,999</td>\n",
       "      <td>1</td>\n",
       "      <td>Useless product</td>\n",
       "      <td>Very bad product it's a only a fan</td>\n",
       "    </tr>\n",
       "    <tr>\n",
       "      <th>4</th>\n",
       "      <td>Candes 12 L Room/Personal Air Cooler?ÿ?ÿ(White...</td>\n",
       "      <td>??3,999</td>\n",
       "      <td>3</td>\n",
       "      <td>Fair</td>\n",
       "      <td>Ok ok product</td>\n",
       "    </tr>\n",
       "  </tbody>\n",
       "</table>\n",
       "</div>"
      ],
      "text/plain": [
       "                                         ProductName     Price Rate  \\\n",
       "0  Candes 12 L Room/Personal Air Cooler?ÿ?ÿ(White...  ??3,999    5   \n",
       "1  Candes 12 L Room/Personal Air Cooler?ÿ?ÿ(White...  ??3,999    5   \n",
       "2  Candes 12 L Room/Personal Air Cooler?ÿ?ÿ(White...  ??3,999    3   \n",
       "3  Candes 12 L Room/Personal Air Cooler?ÿ?ÿ(White...  ??3,999    1   \n",
       "4  Candes 12 L Room/Personal Air Cooler?ÿ?ÿ(White...  ??3,999    3   \n",
       "\n",
       "            Review                                            Summary  \n",
       "0           Super!  Great cooler.. excellent air flow and for this...  \n",
       "1          Awesome             Best budget 2 fit cooler. Nice cooling  \n",
       "2             Fair  The quality is good but the power of air is de...  \n",
       "3  Useless product                 Very bad product it's a only a fan  \n",
       "4             Fair                                      Ok ok product  "
      ]
     },
     "execution_count": 3,
     "metadata": {},
     "output_type": "execute_result"
    }
   ],
   "source": [
    "df.head()"
   ]
  },
  {
   "cell_type": "code",
   "execution_count": 4,
   "metadata": {},
   "outputs": [
    {
     "name": "stdout",
     "output_type": "stream",
     "text": [
      "ProductName\n"
     ]
    },
    {
     "data": {
      "text/plain": [
       "MILTON Thermosteel Flip Lid 500 ml FlaskÂ Â (Pack of 1, Silver, Steel)                                                     9278\n",
       "cello Pack of 18 Opalware Cello Dazzle Lush Fiesta Opalware Dinner Set, 18 Pieces Dinner SetÂ Â (White, Microwave Safe)    8870\n",
       "Home Sizzler 153 cm (5.02 ft) Polyester Room Darkening Window Curtain (Pack Of 2)Â Â (Floral, Brown)                       4350\n",
       "CMerchants Multi Organiser BLue-4 Book Shelf Metal Open Book ShelfÂ Â (Finish Color - BLUE, DIY(Do-It-Yourself))           2399\n",
       "Kadio Analog 20 cm X 20 cm Wall ClockÂ Â (Beige, With Glass, Standard)                                                     2380\n",
       "                                                                                                                           ... \n",
       "38024PP25 Minimalists Analog Watch  - For Men                                                                                 9\n",
       "LS2727 Avatar Day and Date Functioning Crocodile Strap Analog Analog Watch  - For Men                                         8\n",
       "Stylish Brown Sports Men Watches Multifunctional Luxury Waterproof Modern Digital Watch  - For Men                            5\n",
       "LS2917 Mesh Strap All Black Avatar Day and Date Functioning Quartz Analog Watch  - For Men                                    2\n",
       "\u001a                                                                                                                             1\n",
       "Name: ProductName, Length: 812, dtype: int64"
      ]
     },
     "metadata": {},
     "output_type": "display_data"
    },
    {
     "name": "stdout",
     "output_type": "stream",
     "text": [
      "______________________________________________________________________________________________________________________________________________________\n",
      "Price\n"
     ]
    },
    {
     "data": {
      "text/plain": [
       "â¹1,299                                                       10005\n",
       "â¹648                                                          9278\n",
       "â¹299                                                          6697\n",
       "â¹339                                                          2542\n",
       "â¹13,999                                                       2518\n",
       "                                                               ...  \n",
       "??8,499                                                          10\n",
       "â¹404                                                             5\n",
       "Nova Plus Amaze NI 10 1100 W Dry Iron?ÿ?ÿ(Grey & Turquoise)        1\n",
       "Pigeon Favourite Electric Kettle?ÿ?ÿ(1.5 L, Silver, Black)         1\n",
       "Bajaj DX 2 L/W Dry Iron                                            1\n",
       "Name: Price, Length: 561, dtype: int64"
      ]
     },
     "metadata": {},
     "output_type": "display_data"
    },
    {
     "name": "stdout",
     "output_type": "stream",
     "text": [
      "______________________________________________________________________________________________________________________________________________________\n",
      "Rate\n"
     ]
    },
    {
     "data": {
      "text/plain": [
       "5                                                              108694\n",
       "4                                                               39653\n",
       "1                                                               19607\n",
       "3                                                               15681\n",
       "2                                                                6234\n",
       "Pigeon Favourite Electric Kettle?ÿ?ÿ(1.5 L, Silver, Black)          1\n",
       "Bajaj DX 2 L/W Dry Iron                                             1\n",
       "Nova Plus Amaze NI 10 1100 W Dry Iron?ÿ?ÿ(Grey & Turquoise)         1\n",
       "s                                                                   1\n",
       "Name: Rate, dtype: int64"
      ]
     },
     "metadata": {},
     "output_type": "display_data"
    },
    {
     "name": "stdout",
     "output_type": "stream",
     "text": [
      "______________________________________________________________________________________________________________________________________________________\n",
      "Review\n"
     ]
    },
    {
     "data": {
      "text/plain": [
       "Nan                                                            20862\n",
       "Wonderful                                                       8918\n",
       "Awesome                                                         5506\n",
       "Worth every penny                                               5464\n",
       "Classy product                                                  5437\n",
       "                                                               ...  \n",
       "Bajaj DX 2 L/W Dry Iron                                            1\n",
       "Nova Plus Amaze NI 10 1100 W Dry Iron?ÿ?ÿ(Grey & Turquoise)        1\n",
       "Great product.....with this price range                            1\n",
       "best juicer                                                        1\n",
       "Well!!!                                                            1\n",
       "Name: Review, Length: 1264, dtype: int64"
      ]
     },
     "metadata": {},
     "output_type": "display_data"
    },
    {
     "name": "stdout",
     "output_type": "stream",
     "text": [
      "______________________________________________________________________________________________________________________________________________________\n",
      "Summary\n"
     ]
    },
    {
     "data": {
      "text/plain": [
       "Good                                                                           14175\n",
       "Nice                                                                            7859\n",
       "Good product                                                                    5081\n",
       "Nice product                                                                    3637\n",
       "Super                                                                           2643\n",
       "                                                                               ...  \n",
       "Very bad don't buy cheap quality                                                   1\n",
       "Super â¤ï¸ð                                                                   1\n",
       "Too bad the clock is not working  properly even one day also don't buy this        1\n",
       "Fantastic wall clock really love itð                                            1\n",
       "Thanks â¤ï¸                                                                      1\n",
       "Name: Summary, Length: 98343, dtype: int64"
      ]
     },
     "metadata": {},
     "output_type": "display_data"
    },
    {
     "name": "stdout",
     "output_type": "stream",
     "text": [
      "______________________________________________________________________________________________________________________________________________________\n"
     ]
    }
   ],
   "source": [
    "for col in df.columns:\n",
    "    print(col)\n",
    "    display(df[col].value_counts())\n",
    "    print(\"_\"*150)"
   ]
  },
  {
   "cell_type": "code",
   "execution_count": 5,
   "metadata": {},
   "outputs": [
    {
     "data": {
      "text/plain": [
       "ProductName    object\n",
       "Price          object\n",
       "Rate           object\n",
       "Review         object\n",
       "Summary        object\n",
       "dtype: object"
      ]
     },
     "execution_count": 5,
     "metadata": {},
     "output_type": "execute_result"
    }
   ],
   "source": [
    "df.dtypes"
   ]
  },
  {
   "cell_type": "code",
   "execution_count": 6,
   "metadata": {},
   "outputs": [
    {
     "data": {
      "text/plain": [
       "ProductName     0\n",
       "Price           1\n",
       "Rate            1\n",
       "Review          4\n",
       "Summary        14\n",
       "dtype: int64"
      ]
     },
     "execution_count": 6,
     "metadata": {},
     "output_type": "execute_result"
    }
   ],
   "source": [
    "df.isna().sum()"
   ]
  },
  {
   "cell_type": "code",
   "execution_count": 7,
   "metadata": {},
   "outputs": [
    {
     "data": {
      "text/plain": [
       "5                                                              108694\n",
       "4                                                               39653\n",
       "1                                                               19607\n",
       "3                                                               15681\n",
       "2                                                                6234\n",
       "Pigeon Favourite Electric Kettle?ÿ?ÿ(1.5 L, Silver, Black)          1\n",
       "Bajaj DX 2 L/W Dry Iron                                             1\n",
       "Nova Plus Amaze NI 10 1100 W Dry Iron?ÿ?ÿ(Grey & Turquoise)         1\n",
       "s                                                                   1\n",
       "Name: Rate, dtype: int64"
      ]
     },
     "execution_count": 7,
     "metadata": {},
     "output_type": "execute_result"
    }
   ],
   "source": [
    "df.Rate.value_counts()"
   ]
  },
  {
   "attachments": {},
   "cell_type": "markdown",
   "metadata": {},
   "source": [
    "## Cleaning\n",
    "- Handle missing values\n",
    "- Enforce proper data types\n",
    "- Remove rows with column shift"
   ]
  },
  {
   "cell_type": "code",
   "execution_count": 5,
   "metadata": {},
   "outputs": [],
   "source": [
    "df.dropna(inplace=True)"
   ]
  },
  {
   "cell_type": "code",
   "execution_count": 6,
   "metadata": {},
   "outputs": [],
   "source": [
    "def is_valid_rating(rate) -> bool:\n",
    "    '''Determine if rating is valid value'''\n",
    "    try:\n",
    "        # valid: can be cast as int\n",
    "        a = int(rate)\n",
    "        return True\n",
    "    except:\n",
    "        # could not be cast as int, thus invalid\n",
    "        return False\n",
    "    \n",
    "# only keep rows where rating is valid\n",
    "df = df[df.Rate.apply(is_valid_rating)]"
   ]
  },
  {
   "attachments": {},
   "cell_type": "markdown",
   "metadata": {},
   "source": [
    "Cast data types"
   ]
  },
  {
   "cell_type": "code",
   "execution_count": 7,
   "metadata": {},
   "outputs": [],
   "source": [
    "df.ProductName = df.ProductName.astype(str)\n",
    "df.Review = df.Review.astype(str)\n",
    "df.Summary = df.Summary.astype(str)\n",
    "df.Rate = df.Rate.astype(int)"
   ]
  },
  {
   "attachments": {},
   "cell_type": "markdown",
   "metadata": {},
   "source": [
    "Add sentiment column\n",
    "- Review classified as 'negative' if rating is 1 or 2 stars\n",
    "- Review classified as 'positive' if rating is 4 or 5 stars"
   ]
  },
  {
   "cell_type": "code",
   "execution_count": 8,
   "metadata": {},
   "outputs": [],
   "source": [
    "df.loc[:, 'sentiment'] = 'neutral'\n",
    "df.loc[df.Rate < 3, 'sentiment'] = 'negative'\n",
    "df.loc[df.Rate > 3, 'sentiment'] = 'positive'"
   ]
  },
  {
   "attachments": {},
   "cell_type": "markdown",
   "metadata": {},
   "source": [
    "Filter out products that have less than 30 reviews, since that is not much data to work with for topic modeling analysis."
   ]
  },
  {
   "cell_type": "code",
   "execution_count": 9,
   "metadata": {},
   "outputs": [],
   "source": [
    "review_counts = df.ProductName.value_counts()\n",
    "products_to_keep = review_counts[review_counts >= 30].index.to_list()\n",
    "df = df.loc[df.ProductName.isin(products_to_keep), :]"
   ]
  },
  {
   "attachments": {},
   "cell_type": "markdown",
   "metadata": {},
   "source": [
    "Save data to csv file"
   ]
  },
  {
   "cell_type": "code",
   "execution_count": 10,
   "metadata": {},
   "outputs": [],
   "source": [
    "df.to_csv(\"cleaned_product_reviews.csv\", index=False)"
   ]
  }
 ],
 "metadata": {
  "kernelspec": {
   "display_name": "w207",
   "language": "python",
   "name": "python3"
  },
  "language_info": {
   "codemirror_mode": {
    "name": "ipython",
    "version": 3
   },
   "file_extension": ".py",
   "mimetype": "text/x-python",
   "name": "python",
   "nbconvert_exporter": "python",
   "pygments_lexer": "ipython3",
   "version": "3.10.9"
  },
  "orig_nbformat": 4
 },
 "nbformat": 4,
 "nbformat_minor": 2
}
