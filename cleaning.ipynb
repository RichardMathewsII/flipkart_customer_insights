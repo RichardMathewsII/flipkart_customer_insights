{
 "cells": [
  {
   "attachments": {},
   "cell_type": "markdown",
   "metadata": {},
   "source": [
    "# Cleaning Product Reviews Dataset"
   ]
  },
  {
   "cell_type": "code",
   "execution_count": 2,
   "metadata": {},
   "outputs": [],
   "source": [
    "import pandas as pd"
   ]
  },
  {
   "attachments": {},
   "cell_type": "markdown",
   "metadata": {},
   "source": [
    "## Inspect"
   ]
  },
  {
   "cell_type": "code",
   "execution_count": 7,
   "metadata": {},
   "outputs": [],
   "source": [
    "df = pd.read_csv(\"flipkart_sample_reviews.csv\")"
   ]
  },
  {
   "cell_type": "code",
   "execution_count": 8,
   "metadata": {},
   "outputs": [
    {
     "name": "stdout",
     "output_type": "stream",
     "text": [
      "ProductName\n"
     ]
    },
    {
     "data": {
      "text/plain": [
       "MILTON Thermosteel Flip Lid 500 ml FlaskÂ Â (Pack of 1, Silver, Steel)    9278\n",
       "Name: ProductName, dtype: int64"
      ]
     },
     "metadata": {},
     "output_type": "display_data"
    },
    {
     "name": "stdout",
     "output_type": "stream",
     "text": [
      "______________________________________________________________________________________________________________________________________________________\n",
      "Price\n"
     ]
    },
    {
     "data": {
      "text/plain": [
       "â¹648    9278\n",
       "Name: Price, dtype: int64"
      ]
     },
     "metadata": {},
     "output_type": "display_data"
    },
    {
     "name": "stdout",
     "output_type": "stream",
     "text": [
      "______________________________________________________________________________________________________________________________________________________\n",
      "Rate\n"
     ]
    },
    {
     "data": {
      "text/plain": [
       "5    6103\n",
       "4    2094\n",
       "3     584\n",
       "1     340\n",
       "2     157\n",
       "Name: Rate, dtype: int64"
      ]
     },
     "metadata": {},
     "output_type": "display_data"
    },
    {
     "name": "stdout",
     "output_type": "stream",
     "text": [
      "______________________________________________________________________________________________________________________________________________________\n",
      "Review\n"
     ]
    },
    {
     "data": {
      "text/plain": [
       "Wonderful                                       526\n",
       "Must buy!                                       370\n",
       "Terrific                                        369\n",
       "Best in the market!                             360\n",
       "Perfect product!                                353\n",
       "                                               ... \n",
       "This is the real thermos                          1\n",
       "Go for it !!                                      1\n",
       "happy with the product and flipcart service.      1\n",
       "great buy                                         1\n",
       "GOOD PRODUCT                                      1\n",
       "Name: Review, Length: 71, dtype: int64"
      ]
     },
     "metadata": {},
     "output_type": "display_data"
    },
    {
     "name": "stdout",
     "output_type": "stream",
     "text": [
      "______________________________________________________________________________________________________________________________________________________\n",
      "Summary\n"
     ]
    },
    {
     "data": {
      "text/plain": [
       "Good                                                                                                                                                                                                                                                                           1067\n",
       "Nice                                                                                                                                                                                                                                                                            504\n",
       "Good product                                                                                                                                                                                                                                                                    464\n",
       "Nice product                                                                                                                                                                                                                                                                    304\n",
       "Very good                                                                                                                                                                                                                                                                       188\n",
       "                                                                                                                                                                                                                                                                               ... \n",
       "Good productð¤©                                                                                                                                                                                                                                                                  1\n",
       "Till now the product is great and service too                                                                                                                                                                                                                                     1\n",
       "It is written that it can keep the liquid cold/hot for 24hrs. But after using or opening the flip lid the liquid doesn't stays hot till that time. Minimum 10 hrs it can keep the liquid hot almost like boiling point. Otherwise the product is very good & 100% original.       1\n",
       "Good ince product                                                                                                                                                                                                                                                                 1\n",
       "Good quality.trusted milton.                                                                                                                                                                                                                                                      1\n",
       "Name: Summary, Length: 4369, dtype: int64"
      ]
     },
     "metadata": {},
     "output_type": "display_data"
    },
    {
     "name": "stdout",
     "output_type": "stream",
     "text": [
      "______________________________________________________________________________________________________________________________________________________\n"
     ]
    }
   ],
   "source": [
    "for col in df.columns:\n",
    "    print(col)\n",
    "    display(df[col].value_counts())\n",
    "    print(\"_\"*150)"
   ]
  },
  {
   "cell_type": "code",
   "execution_count": 9,
   "metadata": {},
   "outputs": [
    {
     "data": {
      "text/plain": [
       "ProductName    object\n",
       "Price          object\n",
       "Rate            int64\n",
       "Review         object\n",
       "Summary        object\n",
       "dtype: object"
      ]
     },
     "execution_count": 9,
     "metadata": {},
     "output_type": "execute_result"
    }
   ],
   "source": [
    "df.dtypes"
   ]
  },
  {
   "cell_type": "code",
   "execution_count": 10,
   "metadata": {},
   "outputs": [
    {
     "data": {
      "text/plain": [
       "ProductName    0\n",
       "Price          0\n",
       "Rate           0\n",
       "Review         0\n",
       "Summary        0\n",
       "dtype: int64"
      ]
     },
     "execution_count": 10,
     "metadata": {},
     "output_type": "execute_result"
    }
   ],
   "source": [
    "df.isna().sum()"
   ]
  },
  {
   "cell_type": "code",
   "execution_count": 11,
   "metadata": {},
   "outputs": [
    {
     "data": {
      "text/plain": [
       "5    6103\n",
       "4    2094\n",
       "3     584\n",
       "1     340\n",
       "2     157\n",
       "Name: Rate, dtype: int64"
      ]
     },
     "execution_count": 11,
     "metadata": {},
     "output_type": "execute_result"
    }
   ],
   "source": [
    "df.Rate.value_counts()"
   ]
  },
  {
   "attachments": {},
   "cell_type": "markdown",
   "metadata": {},
   "source": [
    "## Cleaning\n",
    "- Handle missing values\n",
    "- Enforce proper data types\n",
    "- Remove rows with column shift"
   ]
  },
  {
   "cell_type": "code",
   "execution_count": 18,
   "metadata": {},
   "outputs": [],
   "source": [
    "df.dropna(inplace=True)"
   ]
  },
  {
   "cell_type": "code",
   "execution_count": 19,
   "metadata": {},
   "outputs": [],
   "source": [
    "def is_valid_rating(rate) -> bool:\n",
    "    '''Determine if rating is valid value'''\n",
    "    try:\n",
    "        # valid: can be cast as int\n",
    "        a = int(rate)\n",
    "        return True\n",
    "    except:\n",
    "        # could not be cast as int, thus invalid\n",
    "        return False\n",
    "    \n",
    "# only keep rows where rating is valid\n",
    "df = df[df.Rate.apply(is_valid_rating)]"
   ]
  },
  {
   "attachments": {},
   "cell_type": "markdown",
   "metadata": {},
   "source": [
    "Cast data types"
   ]
  },
  {
   "cell_type": "code",
   "execution_count": 20,
   "metadata": {},
   "outputs": [],
   "source": [
    "df.ProductName = df.ProductName.astype(str)\n",
    "df.Review = df.Review.astype(str)\n",
    "df.Summary = df.Summary.astype(str)\n",
    "df.Rate = df.Rate.astype(int)"
   ]
  },
  {
   "attachments": {},
   "cell_type": "markdown",
   "metadata": {},
   "source": [
    "Add sentiment column\n",
    "- Review classified as 'negative' if rating is 1 or 2 stars\n",
    "- Review classified as 'positive' if rating is 4 or 5 stars"
   ]
  },
  {
   "cell_type": "code",
   "execution_count": 21,
   "metadata": {},
   "outputs": [],
   "source": [
    "df.loc[:, 'sentiment'] = 'neutral'\n",
    "df.loc[df.Rate < 3, 'sentiment'] = 'negative'\n",
    "df.loc[df.Rate > 3, 'sentiment'] = 'positive'"
   ]
  },
  {
   "attachments": {},
   "cell_type": "markdown",
   "metadata": {},
   "source": [
    "Filter out products that have less than 30 reviews, since that is not much data to work with for topic modeling analysis."
   ]
  },
  {
   "cell_type": "code",
   "execution_count": 22,
   "metadata": {},
   "outputs": [],
   "source": [
    "review_counts = df.ProductName.value_counts()\n",
    "products_to_keep = review_counts[review_counts >= 30].index.to_list()\n",
    "df = df.loc[df.ProductName.isin(products_to_keep), :]"
   ]
  },
  {
   "attachments": {},
   "cell_type": "markdown",
   "metadata": {},
   "source": [
    "Save data to csv file"
   ]
  },
  {
   "cell_type": "code",
   "execution_count": 23,
   "metadata": {},
   "outputs": [],
   "source": [
    "# df.to_csv(\"cleaned_product_reviews.csv\", index=False)\n",
    "df.to_csv(\"cleaned_sample.csv\", index=False)"
   ]
  }
 ],
 "metadata": {
  "kernelspec": {
   "display_name": "w207",
   "language": "python",
   "name": "python3"
  },
  "language_info": {
   "codemirror_mode": {
    "name": "ipython",
    "version": 3
   },
   "file_extension": ".py",
   "mimetype": "text/x-python",
   "name": "python",
   "nbconvert_exporter": "python",
   "pygments_lexer": "ipython3",
   "version": "3.10.9"
  },
  "orig_nbformat": 4
 },
 "nbformat": 4,
 "nbformat_minor": 2
}
